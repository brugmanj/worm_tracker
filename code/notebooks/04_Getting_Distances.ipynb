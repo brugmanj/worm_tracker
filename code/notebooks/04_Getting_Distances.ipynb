{
 "cells": [
  {
   "cell_type": "markdown",
   "metadata": {},
   "source": [
    "Getting the necessary imports"
   ]
  },
  {
   "cell_type": "code",
   "execution_count": 74,
   "metadata": {},
   "outputs": [],
   "source": [
    "import numpy as np\n",
    "import pandas as pd\n",
    "from ast import literal_eval\n",
    "import os"
   ]
  },
  {
   "cell_type": "markdown",
   "metadata": {},
   "source": [
    "Reading in all the files to gather distances from"
   ]
  },
  {
   "cell_type": "code",
   "execution_count": 92,
   "metadata": {},
   "outputs": [],
   "source": [
    "files = os.listdir('../../sorted_csv/')\n",
    "files.remove('.DS_Store')"
   ]
  },
  {
   "cell_type": "markdown",
   "metadata": {},
   "source": [
    "This is a cell where we go through the while process of gathering speeds, and turning them into speed csv's. This is all in one big notebook, so this will be commented inside the code."
   ]
  },
  {
   "cell_type": "code",
   "execution_count": null,
   "metadata": {},
   "outputs": [],
   "source": [
    "for file in files:\n",
    "    print(file)\n",
    "    df = pd.read_csv('../../sorted_csv/' + file)\n",
    "\n",
    "    # This cell changes all string tuples to actual tuples. This is necessary for the distance operation used later\n",
    "    try:\n",
    "        df.fillna('(99999, 99999)', inplace = True)\n",
    "    except:\n",
    "        pass\n",
    "\n",
    "    # Creates a new dataframe, converts all tuple strings to integers, and saves the resulting dataframe to df\n",
    "    new_df = []\n",
    "    for _, row in df.iterrows():\n",
    "        sorted_x_coord = sorted([literal_eval(tup) for tup in list(row)])\n",
    "        new_df.append(sorted_x_coord)\n",
    "    df = pd.DataFrame.from_records(new_df)\n",
    "    # This cell turns all (99999, 99999) valued cells back to NAN's so they dont mess up the distance calculations\n",
    "    df = df.apply(lambda x: x.apply(lambda s: s if s != (99999, 99999) else np.nan))\n",
    "\n",
    "    # Creating new dataframe to hold the distances\n",
    "    distances_df = pd.DataFrame(columns = range(df.shape[1]))\n",
    "\n",
    "    # Calculating the distances between sucessive rows.\n",
    "    def get_distances(x):\n",
    "        row1 = df.loc[x]\n",
    "        row2 = df.loc[x+1]\n",
    "        dist = []\n",
    "        # This loop finds the distance by comparing the same column in successive rows.\n",
    "        for i in range(len(row1)):\n",
    "            try:\n",
    "                dist.append(np.sqrt((row1[i][0] - row2[i][0])**2 + (row1[i][1] - row2[i][1])**2))\n",
    "            except:\n",
    "                dist.append(99999)\n",
    "        return dist\n",
    "\n",
    "    # Looping through the dataframe and assigning all distances to the new dataframe\n",
    "    for i in range(df.shape[0] - 1):\n",
    "        distances_df.loc[i] = get_distances(i)\n",
    "\n",
    "    distances_df.to_csv('../../frame_distances/' + file, index = False)    \n",
    "    # This counts the values of distances traveled in 1 frame, and counts them all to get data worm by worm.\n",
    "    counts = []\n",
    "    for i in range(10):\n",
    "        counts.append(distances_df.mask((distances_df < i) | (distances_df >= i+1)).count().values)\n",
    "\n",
    "    # Labels the columns so we dont have an x and y of just numbers\n",
    "    worm_names = []\n",
    "    for i in range(len(df.columns)):\n",
    "        worm_names.append('worm_'+str(i))\n",
    "\n",
    "    # Finally making and saving the dataframe\n",
    "    worm_dist = pd.DataFrame(counts, columns = worm_names)\n",
    "\n",
    "    worm_dist.to_csv('../../total_distance_values/' + file.strip('.csv') + '_distance.csv', index = False)"
   ]
  },
  {
   "cell_type": "code",
   "execution_count": null,
   "metadata": {},
   "outputs": [],
   "source": []
  }
 ],
 "metadata": {
  "kernelspec": {
   "display_name": "Python 3",
   "language": "python",
   "name": "python3"
  },
  "language_info": {
   "codemirror_mode": {
    "name": "ipython",
    "version": 3
   },
   "file_extension": ".py",
   "mimetype": "text/x-python",
   "name": "python",
   "nbconvert_exporter": "python",
   "pygments_lexer": "ipython3",
   "version": "3.7.6"
  }
 },
 "nbformat": 4,
 "nbformat_minor": 4
}
