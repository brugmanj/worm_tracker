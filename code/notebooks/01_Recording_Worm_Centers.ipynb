{
 "cells": [
  {
   "cell_type": "code",
   "execution_count": 1,
   "metadata": {},
   "outputs": [],
   "source": [
    "import pandas as pd\n",
    "import os \n",
    "import cv2 as cv"
   ]
  },
  {
   "cell_type": "code",
   "execution_count": 2,
   "metadata": {},
   "outputs": [
    {
     "ename": "FileNotFoundError",
     "evalue": "[Errno 2] No such file or directory: '../wormvids/'",
     "output_type": "error",
     "traceback": [
      "\u001b[0;31m---------------------------------------------------------------------------\u001b[0m",
      "\u001b[0;31mFileNotFoundError\u001b[0m                         Traceback (most recent call last)",
      "\u001b[0;32m<ipython-input-2-87bd407225eb>\u001b[0m in \u001b[0;36m<module>\u001b[0;34m\u001b[0m\n\u001b[0;32m----> 1\u001b[0;31m \u001b[0mfiles\u001b[0m \u001b[0;34m=\u001b[0m \u001b[0mos\u001b[0m\u001b[0;34m.\u001b[0m\u001b[0mlistdir\u001b[0m\u001b[0;34m(\u001b[0m\u001b[0;34m'../wormvids/'\u001b[0m\u001b[0;34m)\u001b[0m\u001b[0;34m\u001b[0m\u001b[0;34m\u001b[0m\u001b[0m\n\u001b[0m",
      "\u001b[0;31mFileNotFoundError\u001b[0m: [Errno 2] No such file or directory: '../wormvids/'"
     ]
    }
   ],
   "source": [
    "files = os.listdir('../wormvids/')"
   ]
  },
  {
   "cell_type": "code",
   "execution_count": null,
   "metadata": {},
   "outputs": [],
   "source": [
    "files.remove('.DS_Store')"
   ]
  },
  {
   "cell_type": "markdown",
   "metadata": {},
   "source": [
    "This is a big block of code which goes through and openes each file and records the data. The comments are located in the code"
   ]
  },
  {
   "cell_type": "code",
   "execution_count": null,
   "metadata": {},
   "outputs": [],
   "source": [
    "for fil in files:\n",
    "    all_centers = []\n",
    "    path = '../wormvids/'+fil\n",
    "    print(path)\n",
    "    cap = cv.VideoCapture(path)\n",
    "    \n",
    "    if (cap.isOpened() == False):\n",
    "        print(f'Error opening {path}')\n",
    "    \n",
    "    while(cap.isOpened()):\n",
    "        ret, frame = cap.read()\n",
    "        \n",
    "        if (ret == True):\n",
    "            capbw = cv.cvtColor(frame, cv.COLOR_BGR2GRAY) # Converts the video to black and white\n",
    "\n",
    "            ret, thresh = cv.threshold(capbw, 127, 255, 0) # Makes a threshold for contours.\n",
    "            _, contours, _ = cv.findContours(thresh, cv.RETR_TREE, cv.CHAIN_APPROX_SIMPLE) # Finds all contours based off the threshold above\n",
    "\n",
    "            areas = []\n",
    "            centers = []\n",
    "\n",
    "            for contour in contours: # Goes through each contour and removes all with area less than 1000 and greater than 5000\n",
    "                if (cv.contourArea(contour) >  1000) & (cv.contourArea(contour) < 5000):\n",
    "                    areas.append(contour)\n",
    "                    M = cv.moments(contour) # This makes a center dot based off the contour\n",
    "                    cX = int(M[\"m10\"] / M[\"m00\"])\n",
    "                    cY = int(M[\"m01\"] / M[\"m00\"])\n",
    "                    centers.append((cX, cY))\n",
    "            all_centers.append(centers)\n",
    "\n",
    "        elif ret == True: # Skips if count is not mod 2.\n",
    "            pass\n",
    "        else: # Breaks if there is an error\n",
    "            break\n",
    "    \n",
    "    \n",
    "    df = pd.DataFrame(all_centers)\n",
    "    df.to_csv('../worm_centers_csv/' + fil.strip('.avi') + '.csv', index = False)"
   ]
  },
  {
   "cell_type": "code",
   "execution_count": null,
   "metadata": {},
   "outputs": [],
   "source": []
  }
 ],
 "metadata": {
  "kernelspec": {
   "display_name": "Python 3",
   "language": "python",
   "name": "python3"
  },
  "language_info": {
   "codemirror_mode": {
    "name": "ipython",
    "version": 3
   },
   "file_extension": ".py",
   "mimetype": "text/x-python",
   "name": "python",
   "nbconvert_exporter": "python",
   "pygments_lexer": "ipython3",
   "version": "3.7.6"
  }
 },
 "nbformat": 4,
 "nbformat_minor": 4
}
