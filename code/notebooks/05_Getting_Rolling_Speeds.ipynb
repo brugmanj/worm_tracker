{
 "cells": [
  {
   "cell_type": "code",
   "execution_count": 456,
   "metadata": {},
   "outputs": [],
   "source": [
    "import pandas as pd\n",
    "import numpy as np\n",
    "from scipy import stats\n",
    "import matplotlib.pyplot as plt\n",
    "import seaborn as sns\n",
    "import os\n",
    "from sklearn.preprocessing import StandardScaler\n",
    "import pingouin as pg\n",
    "\n",
    "sns.set()"
   ]
  },
  {
   "cell_type": "markdown",
   "metadata": {},
   "source": [
    "This is a big block of code which runs through and picks out each file for the worms, combines the data, takes an average acceleration over 15 frames (~2 seconds) and sorts off min, max, avg, and quartiles. This is compiled into one big dataframe to be hypothesis tested on later."
   ]
  },
  {
   "cell_type": "code",
   "execution_count": 407,
   "metadata": {},
   "outputs": [],
   "source": [
    "# Creating the future dataframe\n",
    "mutant_stats = {}\n",
    "# Folders to find the files in per mutation\n",
    "folders = ['REDACTED']\n",
    "\n",
    "for folder in folders:\n",
    "    path = '../../data/frame_distances/'\n",
    "    path += folder\n",
    "    files = os.listdir(path)\n",
    "    # Loops through and concatenates all dataframes of each mutation into one dataframe per mutation\n",
    "    df = pd.read_csv(path+files[0])\n",
    "    for file in files[1:]:\n",
    "        df2 = pd.read_csv(path+file)\n",
    "        df = pd.concat([df, df2], axis = 1)\n",
    "\n",
    "    # Changing column names so not to have duplicates\n",
    "    df.columns = range(df.shape[1])\n",
    "\n",
    "    # Making values greater than 10 Null in case I missed some cleaning before\n",
    "    df = df.mask(df > 10)\n",
    "\n",
    "    # Removing worms with too many null values, this is necessary to retain accuracy\n",
    "    pct_null = df.isnull().sum() / len(df)\n",
    "    missing_features = pct_null[pct_null > 0.05].index\n",
    "    df.drop(missing_features, axis=1, inplace = True)\n",
    "\n",
    "    # Filling the columns with smaller nulls with the value directly above. This does not change the acceleration of the worm\n",
    "    df.fillna(method = 'ffill', inplace = True)\n",
    "\n",
    "    # 30 frame rolling average, about 1 second, and removing the nulls that creates\n",
    "    rolling = df.rolling(15).mean()\n",
    "    rolling = rolling[14:]\n",
    "\n",
    "    # Getting acceleration in pixels/frame^2\n",
    "    acceleration = rolling.copy()/15\n",
    "\n",
    "    acceleration.to_csv('../../data/accelerations/' + folder.strip('/') + '.csv', index = False)\n",
    "    \n",
    "    # Finding the quartiles, and the max, min, avg values of those per worm.\n",
    "    avg_acc = acceleration.mean(axis=1)\n",
    "\n",
    "    mutant_stats[folder.strip('/')] = avg_acc\n",
    "\n",
    "# Making one big Dataframe with a column for each mutation, with all the stats per mutation as values.\n",
    "mutants = pd.DataFrame(mutant_stats)"
   ]
  },
  {
   "cell_type": "code",
   "execution_count": 424,
   "metadata": {},
   "outputs": [],
   "source": [
    "mutants.to_csv('../../data/mutants.csv', index = False)"
   ]
  },
  {
   "cell_type": "code",
   "execution_count": 415,
   "metadata": {},
   "outputs": [],
   "source": [
    "mutants.dropna(inplace = True)"
   ]
  },
  {
   "cell_type": "markdown",
   "metadata": {},
   "source": [
    "ANOVA testing"
   ]
  },
  {
   "cell_type": "code",
   "execution_count": 416,
   "metadata": {
    "scrolled": true
   },
   "outputs": [
    {
     "data": {
      "text/plain": [
       "F_onewayResult(statistic=665.2321835604525, pvalue=0.0)"
      ]
     },
     "execution_count": 416,
     "metadata": {},
     "output_type": "execute_result"
    }
   ],
   "source": [
    "stats.f_oneway(mutants.iloc[:,0], mutants.iloc[:,1], mutants.iloc[:,2], mutants.iloc[:,3], mutants.iloc[:,4])"
   ]
  },
  {
   "cell_type": "markdown",
   "metadata": {},
   "source": [
    "T-Testing all mutant columns against the wild-type."
   ]
  },
  {
   "cell_type": "code",
   "execution_count": 421,
   "metadata": {},
   "outputs": [],
   "source": [
    "mutant_stats = {}\n",
    "for i in ['REDACTED']:\n",
    "    mutant_stats[i] = [stats.ttest_ind(mutants['worm'], mutants[i])[0], stats.ttest_ind(mutants['worm'], mutants[i])[1]]\n",
    "    print \n",
    "\n",
    "stat_table = pd.DataFrame(mutant_stats, index = ['f-statistic', 'p-value'])"
   ]
  },
  {
   "cell_type": "markdown",
   "metadata": {},
   "source": [
    "This shows me that there are significant differences between the wild-type and the mutations. "
   ]
  },
  {
   "cell_type": "code",
   "execution_count": null,
   "metadata": {},
   "outputs": [],
   "source": []
  },
  {
   "cell_type": "code",
   "execution_count": 472,
   "metadata": {},
   "outputs": [],
   "source": []
  }
 ],
 "metadata": {
  "kernelspec": {
   "display_name": "Python 3",
   "language": "python",
   "name": "python3"
  },
  "language_info": {
   "codemirror_mode": {
    "name": "ipython",
    "version": 3
   },
   "file_extension": ".py",
   "mimetype": "text/x-python",
   "name": "python",
   "nbconvert_exporter": "python",
   "pygments_lexer": "ipython3",
   "version": "3.7.6"
  }
 },
 "nbformat": 4,
 "nbformat_minor": 4
}
